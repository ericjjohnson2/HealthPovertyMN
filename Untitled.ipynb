{
 "cells": [
  {
   "cell_type": "markdown",
   "id": "6d552108-5e0e-4cd1-82ae-3253b2f6d572",
   "metadata": {},
   "source": [
    "# Testing for Slideshow"
   ]
  },
  {
   "cell_type": "markdown",
   "id": "42ac1190-2d74-41bd-ad81-eda612a95a5b",
   "metadata": {},
   "source": [
    "\n",
    "\n",
    "\n",
    "\n",
    "\n",
    "# Welcome to the presentation"
   ]
  },
  {
   "cell_type": "code",
   "execution_count": 1,
   "id": "ddb65b0c-e3eb-401c-9dc2-82168e9fea66",
   "metadata": {},
   "outputs": [
    {
     "name": "stdout",
     "output_type": "stream",
     "text": [
      "Welcome to the presentation\n"
     ]
    }
   ],
   "source": [
    "print('Welcome to the presentation')"
   ]
  },
  {
   "cell_type": "code",
   "execution_count": null,
   "id": "ac53a915-223e-45b0-9245-bdbd9f6ade4e",
   "metadata": {},
   "outputs": [],
   "source": []
  }
 ],
 "metadata": {
  "kernelspec": {
   "display_name": "Python 3 (ipykernel)",
   "language": "python",
   "name": "python3"
  },
  "language_info": {
   "codemirror_mode": {
    "name": "ipython",
    "version": 3
   },
   "file_extension": ".py",
   "mimetype": "text/x-python",
   "name": "python",
   "nbconvert_exporter": "python",
   "pygments_lexer": "ipython3",
   "version": "3.10.12"
  }
 },
 "nbformat": 4,
 "nbformat_minor": 5
}
