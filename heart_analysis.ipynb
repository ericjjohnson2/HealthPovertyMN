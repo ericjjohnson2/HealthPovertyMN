{
 "cells": [
  {
   "cell_type": "markdown",
   "id": "169a6bb5-c670-4e34-9938-e3a1ada59cbd",
   "metadata": {
    "slideshow": {
     "slide_type": "slide"
    },
    "tags": []
   },
   "source": [
    "# Heart Attack and Poverty Analysis"
   ]
  },
  {
   "cell_type": "code",
   "execution_count": 5,
   "id": "72e2a691-c3e4-468e-b443-a6657133b9ff",
   "metadata": {
    "slideshow": {
     "slide_type": "slide"
    },
    "tags": []
   },
   "outputs": [
    {
     "name": "stdout",
     "output_type": "stream",
     "text": [
      "0       2010\n",
      "1       2010\n",
      "2       2010\n",
      "3       2010\n",
      "4       2010\n",
      "        ... \n",
      "1039    2021\n",
      "1040    2021\n",
      "1041    2021\n",
      "1042    2021\n",
      "1043    2021\n",
      "Name: Year, Length: 1044, dtype: int64\n"
     ]
    }
   ],
   "source": [
    "# Dependencies and Setup\n",
    "import pandas as pd\n",
    "from pathlib import Path\n",
    "import requests\n",
    "from pprint import pprint\n",
    "from census import Census\n",
    "import matplotlib.pyplot as plt\n",
    "import numpy as np\n",
    "from scipy.stats import linregress\n",
    "from requests.structures import CaseInsensitiveDict\n",
    "import datetime\n",
    "from scipy import stats\n",
    "\n",
    "\n",
    "# File to Load (Remember to Change These)\n",
    "path_poverty = Path(\"Resources/minnesota_poverty_data.csv\")\n",
    "path_heart = Path(\"Resources/heart_attack_hospitalizations_by_county.csv\")\n",
    "\n",
    "poverty_df = pd.read_csv(path_poverty)\n",
    "heart_df = pd.read_csv(path_heart)\n",
    "print(poverty_df['Year'])"
   ]
  },
  {
   "cell_type": "code",
   "execution_count": 9,
   "id": "93fd2ef1-7c51-4d3e-9328-ad0a130e1c65",
   "metadata": {},
   "outputs": [
    {
     "data": {
      "text/plain": [
       "27000                                                 Minnesota\n",
       "27000                                                 Minnesota\n",
       "27000                                                 Minnesota\n",
       "27000                                                 Minnesota\n",
       "27000                                                 Minnesota\n",
       "                                                        ...    \n",
       "St. Paul, MN 55164-0882                                     NaN\n",
       "Phone: (651) 201-5900 or toll free: 1-800-205-4987          NaN\n",
       "Fax: (651) 201-5926                                         NaN\n",
       "E-mail: tracking.health@state.mn.us                         NaN\n",
       "Web: http://health.mn.gov/mndata                            NaN\n",
       "Name: year, Length: 716, dtype: object"
      ]
     },
     "execution_count": 9,
     "metadata": {},
     "output_type": "execute_result"
    }
   ],
   "source": [
    "# Need to break out the years in the heart data so we have individual years\n",
    "heart_df['year']"
   ]
  },
  {
   "cell_type": "code",
   "execution_count": null,
   "id": "b80f02c2-e206-4464-9019-3d6b57fb49c2",
   "metadata": {},
   "outputs": [],
   "source": []
  }
 ],
 "metadata": {
  "kernelspec": {
   "display_name": "Python 3 (ipykernel)",
   "language": "python",
   "name": "python3"
  },
  "language_info": {
   "codemirror_mode": {
    "name": "ipython",
    "version": 3
   },
   "file_extension": ".py",
   "mimetype": "text/x-python",
   "name": "python",
   "nbconvert_exporter": "python",
   "pygments_lexer": "ipython3",
   "version": "3.10.12"
  }
 },
 "nbformat": 4,
 "nbformat_minor": 5
}
