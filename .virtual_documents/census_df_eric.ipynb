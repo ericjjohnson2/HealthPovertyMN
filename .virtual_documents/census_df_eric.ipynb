import pandas as pd
import requests
from pprint import pprint
from census import Census
from api import geoapify_key, weather_api_key, census_key
from api2 import c2
#print(c2)





# year = 2010
# c = Census(c2, year)
# state_county_data = c.acs5.get(
#     ("B17001_001E",
#      "B17001_002E",
#      "B17001_017E",),
#     {'for': 'county:*'},
#     #{'NAME': 'geography'},  # Add this line to include the county name in the response
#     #{'in': 'state:*'}
# )

# # Convert to DataFrame
# poverty_2010 = pd.DataFrame(state_county_data)
# poverty_2005['year'] = year

# poverty_2005


years = [2010, 2011, 2012, 2013, 2014, 2015, 2016, 2017, 2018, 2019, 2020, 2021]
poverty_data = []
for year in years:
    c = Census(census_key, year)
    state_county_data = c.acs5.get(
        ("B17001_001E",
         "B17001_002E",
         "B17001_017E",),
        {'for': 'county:*'},
        #{'NAME': 'geography'},  # Add this line to include the county name in the response
        #{'in': 'state:*'}
    )
    print(f"Fetching Data for {year}")
    # Convert to DataFrame
    df = pd.DataFrame(state_county_data)
    df['year'] = year
    poverty_data.append(df)




years = [2010, 2011, 2012, 2013, 2014, 2015, 2016, 2017, 2018, 2019, 2020, 2021]
poverty_data = []

for year in years:
    c = Census(census_key, year)
    state_county_data = c.acs5.get(
        ("B17001_001E",
         "B17001_002E",
         "B17001_017E",),
        {'for': 'county:*'},
    )

    print(f"Fetching Data for {year}")

    # Convert to DataFrame
    df = pd.DataFrame(state_county_data)
    df['year'] = year
    poverty_data.append(df)

# Concatenate the list of DataFrames into a single DataFrame
merged_df = pd.concat(poverty_data, ignore_index=True)

# Print the merged DataFrame
print(merged_df)



merged_df.head()


minnesota_data_raw = merged_df.loc[merged_df['state'] == '27']



minnesota_data = minnesota_data_raw.rename(columns={
                      "B17001_001E" : "Population",
                      "B17001_002E" : "Poverty",
                      "B17001_017E" : 'Child Poverty'
                      })
minnesota_data


# Specify the file path where you want to save the CSV file
csv_file_path = 'minnesota_poverty_data.csv'

# Output the DataFrame to a CSV file
minnesota_data.to_csv(csv_file_path, index=False)

# Display a message indicating success
print(f"DataFrame has been successfully saved to {csv_file_path}")



