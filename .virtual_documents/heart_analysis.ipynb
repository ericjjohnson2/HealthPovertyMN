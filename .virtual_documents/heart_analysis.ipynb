


# Dependencies and Setup
import pandas as pd
from pathlib import Path
import requests
from pprint import pprint
from census import Census
import matplotlib.pyplot as plt
import numpy as np
from scipy.stats import linregress
from requests.structures import CaseInsensitiveDict
import datetime
from scipy import stats


# File to Load (Remember to Change These)
path_poverty = Path("Resources/minnesota_poverty_data.csv")
path_heart = Path("Resources/heart_attack_hospitalizations_by_county.csv")

poverty_df = pd.read_csv(path_poverty)
heart_df = pd.read_csv(path_heart)
print(poverty_df['Year'])


# Find the common years
common_years = set(poverty_df['Year']).intersection(lead_df['year'])

# Filter both DataFrames to include only the common years
filtered_poverty_df = poverty_df[poverty_df['Year'].isin(common_years)]
filtered_lead_df = lead_df[lead_df['year'].isin(common_years)]

# Perform the merge on the filtered DataFrames
poverty_lead_df = pd.merge(filtered_poverty_df, filtered_lead_df, left_on=['County', 'Year'], right_on=['location', 'year'], how='inner')

poverty_lead_df = poverty_lead_df[poverty_lead_df['unstable'] != True]

# Now you have a DataFrame with data for the common years
poverty_lead_df.head()



print(poverty_lead_df['pctEbll'].dtype)
poverty_lead_df['pctEbll'] = poverty_lead_df['pctEbll'].fillna(0)
poverty_lead_df['pctEbll'] = pd.to_numeric(poverty_lead_df['pctEbll'], errors='coerce').fillna(0)

# Sort the DataFrame by 'pctEbll' in descending order
poverty_lead_df = poverty_lead_df.sort_values(by='pctEbll', ascending=False)

# Display the top N counties with the highest 'pctEbll'
top_elevated_lead_counties = poverty_lead_df.head(10)

print(top_elevated_lead_counties[['County', 'pctEbll', 'Year']])





gender_df = poverty_df[['Year','County','Female Poverty %','Male Poverty %']]
gender_df = gender_df.groupby('Year')
gender_df.head()


female_poverty_mean = gender_df['Female Poverty %'].mean()
male_poverty_mean = gender_df['Male Poverty %'].mean()

print('Average Female Poverty Rates per County')
print('___________________________________________')
print(female_poverty_mean)
print('')

print('Average Male Poverty Rates per County')
print('___________________________________________')
print(male_poverty_mean)


female_poverty_mean_noIndex = gender_df['Female Poverty %'].mean().reset_index(drop=True)
male_poverty_mean_noIndex = gender_df['Male Poverty %'].mean().reset_index(drop=True)
years = gender_df['Year'].unique()


# Create a line plot
plt.plot(years, female_poverty_mean_noIndex, label='Female')
plt.plot(years, male_poverty_mean_noIndex, label='Male')

# Add labels and title
plt.xlabel('Year')
plt.ylabel('Poverty Percentage')
plt.title('Poverty and Gender % per County')

# Add a legend
plt.legend()

# Show the plot
plt.show()



