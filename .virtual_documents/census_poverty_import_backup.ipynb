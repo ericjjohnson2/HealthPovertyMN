


import pandas as pd
import requests
from pprint import pprint
from census import Census
from api import geoapify_key, weather_api_key, census_key






#Pull cencus data for poverty
#Years earlier than 2010 or later than 2021 did not pull. So using these 11 years.

#variables:
years = [2010, 2011, 2012, 2013, 2014, 2015, 2016, 2017, 2018, 2019, 2020, 2021]
poverty_data = []

#Loop through each year and pull in poverty data, later it will be filtered for the state
for year in years:
    #census api definitions below from: https://api.census.gov/data/2017/acs/acs5/groups/B17001.html
    c = Census(census_key, year)
    state_county_data = c.acs5.get(
        ("B17001_001E",
         "B17001_002E",
         "B17001_017E",
         "B17001_018E",
         "B17001_019E",
         "B17001_020E",
         "B17001_021E",
         "B17001_022E",
         "B17001_023E",
         "B17001_024E",
         "B17001_025E",
         "B17001_026E",
         "B17001_027E",
         "B17001_028E",
         "B17001_029E",
         "B17001_030E",
         "B17001_003E",
         "B17001_004E",
         "B17001_005E",
         "B17001_006E",
         "B17001_007E",
         "B17001_008E",
         "B17001_009E",
         "B17001_010E",
         "B17001_011E",
         "B17001_012E",
         "B17001_013E",
         "B17001_014E",
         "B17001_015E",
         "B17001_016E",
         "B01003_001E"),
        {'for': 'county:*'},
    )

    print(f"Fetching Data for {year}")

    # Convert to DataFrame
    df = pd.DataFrame(state_county_data)
    df['year'] = year
    poverty_data.append(df)

# Concatenate the list of DataFrames into a single DataFrame
merged_df = pd.concat(poverty_data, ignore_index=True)

# Print the merged DataFrame
print(merged_df)


merged_df.head()


#filter to show MN only in new DF
minnesota_data_raw = merged_df.loc[merged_df['state'] == '27']


#Rename columns and cleanup data
minnesota_data = minnesota_data_raw.rename(columns={
                      "B17001_001E" : "Sample Population",
                      "B17001_002E" : "Population Poverty",
                      "B17001_017E" : "Females Poverty",
                      "B17001_018E" : "Females < 5 Poverty",
                      "B17001_019E" : "Females 5 Poverty",
                      "B17001_020E" : "Females 6 to 11 Poverty",
                      "B17001_021E" : "Females 12 to 14 Poverty",
                      "B17001_022E" : "Females 15 Poverty",
                      "B17001_023E" : "Females 16 to 17 Poverty",
                      "B17001_024E" : "Females 18 to 24 Poverty",
                      "B17001_025E" : "Females 25 to 34 Poverty",
                      "B17001_026E" : "Females 35 to 44 Poverty",
                      "B17001_027E" : "Females 45 to 54 Poverty",
                      "B17001_028E" : "Females 55 to 64 Poverty",
                      "B17001_029E" : "Females 65 to 74 Poverty",
                      "B17001_030E" : "Females 75 > Poverty",
                      "B17001_003E" : "Males Poverty",
                      "B17001_004E" : "Males < 5 Poverty",
                      "B17001_005E" : "Males 5 Poverty",
                      "B17001_006E" : "Males 6 to 11 Poverty",
                      "B17001_007E" : "Males 12 to 14 Poverty",
                      "B17001_008E" : "Males 15 Poverty",
                      "B17001_009E" : "Males 16 to 17 Poverty",
                      "B17001_010E" : "Males 18 to 24 Poverty",
                      "B17001_011E" : "Males 25 to 34 Poverty",
                      "B17001_012E" : "Males 35 to 44 Poverty",
                      "B17001_013E" : "Males 45 to 54 Poverty",
                      "B17001_014E" : "Males 55 to 64 Poverty",
                      "B17001_015E" : "Males 65 to 74 Poverty",
                      "B17001_016E" : "Males 75 > Poverty",
                      "B01003_012E" : "Total Population", 
                      "state" : "state code",
                      "county" : "county code"
                      })
#Create a column for the state
minnesota_data.insert(32, 'state', 'MN')

#Create a column for the counties using the county codes
county_mapping = {'001': 'Aitkin', '003': 'Anoka', '005': 'Becker', '007': 'Beltrami', '009': 'Benton',
                  '011': 'Big Stone', '013': 'Blue Earth', '015': 'Brown', '017': 'Carlton', '019': 'Carver',
                  '021': 'Cass', '023': 'Chippewa', '025': 'Chisago', '027': 'Clay', '029': 'Clearwater',
                  '031': 'Cook', '033': 'Cottonwood', '035': 'Crow Wing', '037': 'Dakota', '039': 'Dodge',
                  '041': 'Douglas', '043': 'Faribault', '045': 'Fillmore', '047': 'Freeborn', '049': 'Goodhue',
                  '051': 'Grant', '053': 'Hennepin', '055': 'Houston', '057': 'Hubbard', '059': 'Isanti',
                  '061': 'Itasca', '063': 'Jackson', '065': 'Kanabec', '067': 'Kandiyohi', '069': 'Kittson',
                  '071': 'Koochiching', '073': 'Lac qui Parle', '075': 'Lake', '077': 'Lake of the Woods', '079': 'Le Sueur',
                  '081': 'Lincoln', '083': 'Lyon', '085': 'McLeod', '087': 'Mahnomen', '089': 'Marshall',
                  '091': 'Martin', '093': 'Meeker', '095': 'Mille Lacs', '097': 'Morrison', '099': 'Mower',
                  '101': 'Murray', '103': 'Nicollet', '105': 'Nobles', '107': 'Norman', '109': 'Olmsted',
                  '111': 'Otter Tail', '113': 'Pennington', '115': 'Pine', '117': 'Pipestone', '119': 'Polk',
                  '121': 'Pope', '123': 'Ramsey', '125': 'Red Lake', '127': 'Redwood', '129': 'Renville',
                  '131': 'Rice', '133': 'Rock', '135': 'Roseau', '137': 'St. Louis', '139': 'Scott',
                  '141': 'Sherburne', '143': 'Sibley', '145': 'Stearns', '147': 'Steele', '149': 'Stevens',
                  '151': 'Swift', '153': 'Todd', '155': 'Traverse', '157': 'Wabasha', '159': 'Wadena',
                  '161': 'Waseca', '163': 'Washington', '165': 'Watonwan', '167': 'Wilkin', '169': 'Winona',
                  '171': 'Wright', '173': 'Yellow Medicine'
}

#Insert the dictionary of county_mapping into a new column for the county
print(minnesota_data.shape)
minnesota_data.insert(34, 'county', "")
print(minnesota_data.columns)

minnesota_data['county'] = minnesota_data['county code'].map(county_mapping)


minnesota_data.head(5)





#need to determine per county poverty percentage for each year

minnesota_data['Poverty %'] = (minnesota_data['Population Poverty'] / minnesota_data['Sample Population']) *100
minnesota_data['Poverty %']



#filtering 
minnesota_data.groupby("year")["Poverty %"].describe()


minnesota_data.head()


# Specify the file path where you want to save the CSV file
csv_file_path = 'minnesota_poverty_data2.csv'

# Output the DataFrame to a CSV file
minnesota_data.to_csv(csv_file_path, index=False)

# Display a message indicating success
print(f"DataFrame has been successfully saved to {csv_file_path}")









